{
 "cells": [
  {
   "cell_type": "markdown",
   "id": "affc5f59",
   "metadata": {},
   "source": [
    "### 1.1 Titel: \n",
    "- COVID-Zahlen im Januar 2020 und 2021\n",
    "### 1.2 Fragestellung:\n",
    "- Welche Länder waren von der Ersten und Zweiten COVID-Welle am meisten betrofen und was waren die Gründe dafür \n",
    "### 1.3 Datenquelle(n):\n",
    "Beispiele für mögliche Datenquellen:\n",
    "- https://ourworldindata.org"
   ]
  },
  {
   "cell_type": "code",
   "execution_count": 1,
   "id": "af68796e",
   "metadata": {},
   "outputs": [
    {
     "name": "stdout",
     "output_type": "stream",
     "text": [
      "        Entity         Day  Weekly cases per million people\n",
      "0  Afghanistan  2020-01-09                              0.0\n",
      "1  Afghanistan  2020-01-10                              0.0\n",
      "2  Afghanistan  2020-01-11                              0.0\n",
      "3  Afghanistan  2020-01-12                              0.0\n",
      "4  Afghanistan  2020-01-13                              0.0\n"
     ]
    }
   ],
   "source": [
    "import pandas as pd\n",
    "\n",
    "# CSV-Datei laden\n",
    "df = pd.read_csv(\"COVID-Zahlen 2021 (ourworldindata.org).csv\")  # Ersetze 'datei.csv' durch den Namen deiner Datei\n",
    "\n",
    "# Die ersten 5 Zeilen anzeigen\n",
    "print(df.head())"
   ]
  },
  {
   "cell_type": "code",
   "execution_count": null,
   "id": "4403a265",
   "metadata": {},
   "outputs": [],
   "source": []
  }
 ],
 "metadata": {
  "kernelspec": {
   "display_name": "base",
   "language": "python",
   "name": "python3"
  },
  "language_info": {
   "codemirror_mode": {
    "name": "ipython",
    "version": 3
   },
   "file_extension": ".py",
   "mimetype": "text/x-python",
   "name": "python",
   "nbconvert_exporter": "python",
   "pygments_lexer": "ipython3",
   "version": "3.12.4"
  }
 },
 "nbformat": 4,
 "nbformat_minor": 5
}
