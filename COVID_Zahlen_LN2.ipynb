{
 "cells": [
  {
   "cell_type": "markdown",
   "id": "affc5f59",
   "metadata": {},
   "source": [
    "### 1.1 Titel: \n",
    "- COVID-Zahlen im Januar 2020 und 2021\n",
    "### 1.2 Fragestellung:\n",
    "- Welche Länder waren von der Ersten und Zweiten COVID-Welle am meisten betrofen und was waren die Gründe dafür \n",
    "### 1.3 Datenquelle(n):\n",
    "Beispiele für mögliche Datenquellen:\n",
    "- https://ourworldindata.org"
   ]
  },
  {
   "cell_type": "markdown",
   "id": "dd6c0df3",
   "metadata": {},
   "source": []
  }
 ],
 "metadata": {
  "language_info": {
   "name": "python"
  }
 },
 "nbformat": 4,
 "nbformat_minor": 5
}
