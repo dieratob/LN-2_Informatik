{
  "cells": [],
  "metadata": {},
  "nbformat": 4,
  "nbformat_minor": 5
}
   "source": [
    "# Grosse Veränderungen der Lebenserwartung\n",
    "\n",
    "Gruppe: Karin Moser, Heinz Specht, Markus Specht, Anna Mahler\n",
    "\n",
    "Fragen\n",
    "- Welche Länder hatten in den letzten 10 Jahre die grösste Zunahme/Abnahme der Lebenswerten?\n",
    "- Was sind die Gründe dafür?\n",
    "\n",
    "Quellen\n",
    "- https://ourworldindata.org/grapher/life-expectancy?tab=map&time=2021\n"
   ]
  },

